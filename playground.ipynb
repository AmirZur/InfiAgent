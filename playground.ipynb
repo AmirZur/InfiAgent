{
 "cells": [
  {
   "cell_type": "markdown",
   "id": "00a4d55c",
   "metadata": {},
   "source": [
    "## OpenAI calls"
   ]
  },
  {
   "cell_type": "code",
   "execution_count": null,
   "id": "4ca0acb4",
   "metadata": {},
   "outputs": [],
   "source": [
    "import os\n",
    "import base64\n",
    "from openai import AzureOpenAI\n",
    "\n",
    "endpoint = os.getenv(\"ENDPOINT_URL\", \"https://oai-ms-2025.openai.azure.com/\")\n",
    "deployment = os.getenv(\"DEPLOYMENT_NAME\", \"gpt-4.1-nano\")\n",
    "subscription_key = os.getenv(\"AZURE_OPENAI_API_KEY\", \"\")\n",
    "\n",
    "# Initialize Azure OpenAI client with key-based authentication\n",
    "client = AzureOpenAI(\n",
    "    azure_endpoint=endpoint,\n",
    "    api_key=subscription_key,\n",
    "    api_version=\"2025-01-01-preview\",\n",
    ")"
   ]
  },
  {
   "cell_type": "code",
   "execution_count": 6,
   "id": "a4e4d3d7",
   "metadata": {},
   "outputs": [
    {
     "name": "stdout",
     "output_type": "stream",
     "text": [
      "{\n",
      "  \"id\": \"chatcmpl-C5zcO9Pq9IXOJPXWWqTRpoEbW6yKR\",\n",
      "  \"choices\": [\n",
      "    {\n",
      "      \"finish_reason\": \"stop\",\n",
      "      \"index\": 0,\n",
      "      \"logprobs\": null,\n",
      "      \"message\": {\n",
      "        \"content\": \"1 + 1 equals 2.\",\n",
      "        \"refusal\": null,\n",
      "        \"role\": \"assistant\",\n",
      "        \"annotations\": []\n",
      "      },\n",
      "      \"content_filter_results\": {\n",
      "        \"hate\": {\n",
      "          \"filtered\": false,\n",
      "          \"severity\": \"safe\"\n",
      "        },\n",
      "        \"protected_material_code\": {\n",
      "          \"filtered\": false,\n",
      "          \"detected\": false\n",
      "        },\n",
      "        \"protected_material_text\": {\n",
      "          \"filtered\": false,\n",
      "          \"detected\": false\n",
      "        },\n",
      "        \"self_harm\": {\n",
      "          \"filtered\": false,\n",
      "          \"severity\": \"safe\"\n",
      "        },\n",
      "        \"sexual\": {\n",
      "          \"filtered\": false,\n",
      "          \"severity\": \"safe\"\n",
      "        },\n",
      "        \"violence\": {\n",
      "          \"filtered\": false,\n",
      "          \"severity\": \"safe\"\n",
      "        }\n",
      "      }\n",
      "    }\n",
      "  ],\n",
      "  \"created\": 1755544536,\n",
      "  \"model\": \"gpt-4.1-nano-2025-04-14\",\n",
      "  \"object\": \"chat.completion\",\n",
      "  \"system_fingerprint\": \"fp_368a354b49\",\n",
      "  \"usage\": {\n",
      "    \"completion_tokens\": 9,\n",
      "    \"prompt_tokens\": 42,\n",
      "    \"total_tokens\": 51,\n",
      "    \"completion_tokens_details\": {\n",
      "      \"accepted_prediction_tokens\": 0,\n",
      "      \"audio_tokens\": 0,\n",
      "      \"reasoning_tokens\": 0,\n",
      "      \"rejected_prediction_tokens\": 0\n",
      "    },\n",
      "    \"prompt_tokens_details\": {\n",
      "      \"audio_tokens\": 0,\n",
      "      \"cached_tokens\": 0\n",
      "    }\n",
      "  },\n",
      "  \"prompt_filter_results\": [\n",
      "    {\n",
      "      \"prompt_index\": 0,\n",
      "      \"content_filter_results\": {\n",
      "        \"hate\": {\n",
      "          \"filtered\": false,\n",
      "          \"severity\": \"safe\"\n",
      "        },\n",
      "        \"jailbreak\": {\n",
      "          \"filtered\": false,\n",
      "          \"detected\": false\n",
      "        },\n",
      "        \"self_harm\": {\n",
      "          \"filtered\": false,\n",
      "          \"severity\": \"safe\"\n",
      "        },\n",
      "        \"sexual\": {\n",
      "          \"filtered\": false,\n",
      "          \"severity\": \"safe\"\n",
      "        },\n",
      "        \"violence\": {\n",
      "          \"filtered\": false,\n",
      "          \"severity\": \"safe\"\n",
      "        }\n",
      "      }\n",
      "    }\n",
      "  ]\n",
      "}\n"
     ]
    }
   ],
   "source": [
    "# IMAGE_PATH = \"YOUR_IMAGE_PATH\"\n",
    "# encoded_image = base64.b64encode(open(IMAGE_PATH, 'rb').read()).decode('ascii')\n",
    "\n",
    "# Prepare the chat prompt\n",
    "chat_prompt = [\n",
    "    {\n",
    "        \"role\": \"system\",\n",
    "        \"content\": [\n",
    "            {\n",
    "                \"type\": \"text\",\n",
    "                \"text\": \"You are an AI assistant that helps people find information.\"\n",
    "            }\n",
    "        ]\n",
    "    },\n",
    "    {\n",
    "        \"role\": \"user\",\n",
    "        \"content\": [\n",
    "            {\n",
    "                \"type\": \"text\",\n",
    "                \"text\": \"What is 1 + 1?\"\n",
    "            }\n",
    "        ]\n",
    "    },\n",
    "    {\n",
    "        \"role\": \"assistant\",\n",
    "        \"content\": [\n",
    "            {\n",
    "                \"type\": \"text\",\n",
    "                \"text\": \"1 + 1 equals 2.\"\n",
    "            }\n",
    "        ]\n",
    "    }\n",
    "]\n",
    "\n",
    "# Include speech result if speech is enabled\n",
    "messages = chat_prompt\n",
    "\n",
    "# Generate the completion\n",
    "completion = client.chat.completions.create(\n",
    "    model=deployment,\n",
    "    messages=messages,\n",
    "    max_tokens=13107,\n",
    "    temperature=0.7,\n",
    "    top_p=0.95,\n",
    "    frequency_penalty=0,\n",
    "    presence_penalty=0,\n",
    "    stop=None,\n",
    "    stream=False\n",
    ")\n",
    "\n",
    "print(completion.to_json())"
   ]
  },
  {
   "cell_type": "markdown",
   "id": "1566b676",
   "metadata": {},
   "source": [
    "## Exploring InfiAgent data"
   ]
  },
  {
   "cell_type": "code",
   "execution_count": 4,
   "id": "eb5a794e",
   "metadata": {},
   "outputs": [
    {
     "name": "stdout",
     "output_type": "stream",
     "text": [
      "(257, 8)\n"
     ]
    },
    {
     "data": {
      "text/html": [
       "<div>\n",
       "<style scoped>\n",
       "    .dataframe tbody tr th:only-of-type {\n",
       "        vertical-align: middle;\n",
       "    }\n",
       "\n",
       "    .dataframe tbody tr th {\n",
       "        vertical-align: top;\n",
       "    }\n",
       "\n",
       "    .dataframe thead th {\n",
       "        text-align: right;\n",
       "    }\n",
       "</style>\n",
       "<table border=\"1\" class=\"dataframe\">\n",
       "  <thead>\n",
       "    <tr style=\"text-align: right;\">\n",
       "      <th></th>\n",
       "      <th>id</th>\n",
       "      <th>question</th>\n",
       "      <th>concepts</th>\n",
       "      <th>constraints</th>\n",
       "      <th>format</th>\n",
       "      <th>file_name</th>\n",
       "      <th>level</th>\n",
       "      <th>common_answers</th>\n",
       "    </tr>\n",
       "  </thead>\n",
       "  <tbody>\n",
       "    <tr>\n",
       "      <th>0</th>\n",
       "      <td>0</td>\n",
       "      <td>Calculate the mean fare paid by the passengers.</td>\n",
       "      <td>[Summary Statistics]</td>\n",
       "      <td>Calculate the mean fare using Python's built-i...</td>\n",
       "      <td>@mean_fare[mean_fare_value] where \"mean_fare_v...</td>\n",
       "      <td>test_ave.csv</td>\n",
       "      <td>easy</td>\n",
       "      <td>[[mean_fare, 34.65]]</td>\n",
       "    </tr>\n",
       "    <tr>\n",
       "      <th>1</th>\n",
       "      <td>5</td>\n",
       "      <td>Generate a new feature called \"FamilySize\" by ...</td>\n",
       "      <td>[Feature Engineering, Correlation Analysis]</td>\n",
       "      <td>Create a new column 'FamilySize' that is the s...</td>\n",
       "      <td>@correlation_coefficient[r_value]\\nwhere \"r_va...</td>\n",
       "      <td>test_ave.csv</td>\n",
       "      <td>medium</td>\n",
       "      <td>[[correlation_coefficient, 0.21]]</td>\n",
       "    </tr>\n",
       "    <tr>\n",
       "      <th>2</th>\n",
       "      <td>6</td>\n",
       "      <td>Create a new column called \"AgeGroup\" that cat...</td>\n",
       "      <td>[Feature Engineering, Summary Statistics]</td>\n",
       "      <td>Make sure to round the mean fare of each group...</td>\n",
       "      <td>@mean_fare_child[mean_fare], @mean_fare_teenag...</td>\n",
       "      <td>test_ave.csv</td>\n",
       "      <td>medium</td>\n",
       "      <td>[[mean_fare_elderly, 43.47], [mean_fare_teenag...</td>\n",
       "    </tr>\n",
       "    <tr>\n",
       "      <th>3</th>\n",
       "      <td>7</td>\n",
       "      <td>Apply the linear regression algorithm from the...</td>\n",
       "      <td>[Machine Learning]</td>\n",
       "      <td>Use one-hot encoding for the 'Sex' and 'Embark...</td>\n",
       "      <td>@prediction_accuracy[accuracy], where \"accurac...</td>\n",
       "      <td>test_ave.csv</td>\n",
       "      <td>hard</td>\n",
       "      <td>[[prediction_accuracy, 0.78]]</td>\n",
       "    </tr>\n",
       "    <tr>\n",
       "      <th>4</th>\n",
       "      <td>8</td>\n",
       "      <td>Perform a distribution analysis on the 'Fare' ...</td>\n",
       "      <td>[Distribution Analysis, Summary Statistics]</td>\n",
       "      <td>Keep all numerical values rounded to 2 decimal...</td>\n",
       "      <td>@mean_fare_class1[mean_fare], @median_fare_cla...</td>\n",
       "      <td>test_ave.csv</td>\n",
       "      <td>medium</td>\n",
       "      <td>[[median_fare_class1, 69.30], [median_fare_cla...</td>\n",
       "    </tr>\n",
       "  </tbody>\n",
       "</table>\n",
       "</div>"
      ],
      "text/plain": [
       "   id                                           question  \\\n",
       "0   0    Calculate the mean fare paid by the passengers.   \n",
       "1   5  Generate a new feature called \"FamilySize\" by ...   \n",
       "2   6  Create a new column called \"AgeGroup\" that cat...   \n",
       "3   7  Apply the linear regression algorithm from the...   \n",
       "4   8  Perform a distribution analysis on the 'Fare' ...   \n",
       "\n",
       "                                      concepts  \\\n",
       "0                         [Summary Statistics]   \n",
       "1  [Feature Engineering, Correlation Analysis]   \n",
       "2    [Feature Engineering, Summary Statistics]   \n",
       "3                           [Machine Learning]   \n",
       "4  [Distribution Analysis, Summary Statistics]   \n",
       "\n",
       "                                         constraints  \\\n",
       "0  Calculate the mean fare using Python's built-i...   \n",
       "1  Create a new column 'FamilySize' that is the s...   \n",
       "2  Make sure to round the mean fare of each group...   \n",
       "3  Use one-hot encoding for the 'Sex' and 'Embark...   \n",
       "4  Keep all numerical values rounded to 2 decimal...   \n",
       "\n",
       "                                              format     file_name   level  \\\n",
       "0  @mean_fare[mean_fare_value] where \"mean_fare_v...  test_ave.csv    easy   \n",
       "1  @correlation_coefficient[r_value]\\nwhere \"r_va...  test_ave.csv  medium   \n",
       "2  @mean_fare_child[mean_fare], @mean_fare_teenag...  test_ave.csv  medium   \n",
       "3  @prediction_accuracy[accuracy], where \"accurac...  test_ave.csv    hard   \n",
       "4  @mean_fare_class1[mean_fare], @median_fare_cla...  test_ave.csv  medium   \n",
       "\n",
       "                                      common_answers  \n",
       "0                               [[mean_fare, 34.65]]  \n",
       "1                  [[correlation_coefficient, 0.21]]  \n",
       "2  [[mean_fare_elderly, 43.47], [mean_fare_teenag...  \n",
       "3                      [[prediction_accuracy, 0.78]]  \n",
       "4  [[median_fare_class1, 69.30], [median_fare_cla...  "
      ]
     },
     "execution_count": 4,
     "metadata": {},
     "output_type": "execute_result"
    }
   ],
   "source": [
    "import pandas as pd\n",
    "\n",
    "questions_df = pd.read_json('examples/DA-Agent/data/da-dev-questions.jsonl', lines=True)\n",
    "labels_df = pd.read_json('examples/DA-Agent/data/da-dev-labels.jsonl', lines=True)\n",
    "\n",
    "data_df = pd.concat((questions_df, labels_df[['common_answers']]), axis=1)\n",
    "print(data_df.shape)\n",
    "data_df.head()"
   ]
  },
  {
   "cell_type": "code",
   "execution_count": 5,
   "id": "c8dd3a08",
   "metadata": {},
   "outputs": [
    {
     "data": {
      "text/plain": [
       "level\n",
       "hard      88\n",
       "medium    87\n",
       "easy      82\n",
       "Name: count, dtype: int64"
      ]
     },
     "execution_count": 5,
     "metadata": {},
     "output_type": "execute_result"
    }
   ],
   "source": [
    "data_df['level'].value_counts()"
   ]
  },
  {
   "cell_type": "code",
   "execution_count": 6,
   "id": "427da6d0",
   "metadata": {},
   "outputs": [
    {
     "data": {
      "text/plain": [
       "Counter({'Summary Statistics': 90,\n",
       "         'Correlation Analysis': 72,\n",
       "         'Distribution Analysis': 64,\n",
       "         'Feature Engineering': 50,\n",
       "         'Comprehensive Data Preprocessing': 45,\n",
       "         'Outlier Detection': 35,\n",
       "         'Machine Learning': 19})"
      ]
     },
     "execution_count": 6,
     "metadata": {},
     "output_type": "execute_result"
    }
   ],
   "source": [
    "from collections import Counter\n",
    "\n",
    "Counter(data_df.concepts.values.sum())"
   ]
  },
  {
   "cell_type": "code",
   "execution_count": 7,
   "id": "9798fc77",
   "metadata": {},
   "outputs": [
    {
     "data": {
      "text/plain": [
       "level\n",
       "easy      36\n",
       "medium     1\n",
       "Name: count, dtype: int64"
      ]
     },
     "execution_count": 7,
     "metadata": {},
     "output_type": "execute_result"
    }
   ],
   "source": [
    "sum_stats_df = data_df[data_df['concepts'].apply(lambda l: ['Summary Statistics'] == l)].reset_index(drop=True)\n",
    "sum_stats_df.level.value_counts()"
   ]
  },
  {
   "cell_type": "code",
   "execution_count": 8,
   "id": "7d6fd584",
   "metadata": {},
   "outputs": [
    {
     "name": "stdout",
     "output_type": "stream",
     "text": [
      "# Task\n",
      "Calculate the mean fare paid by the passengers.\n",
      "\n",
      "# Instructions\n",
      " - Analyze the data in `test_ave.csv`.\n",
      " - Calculate the mean fare using Python's built-in statistics module or appropriate statistical method in pandas. Rounding off the answer to two decimal places.\n",
      " - Do **not** write any code. Rely on your tools instead.\n",
      " - **Only use your tools** and ignore Python-specific constraints.\n",
      "\n",
      "# Formatting\n",
      "Format your answer as follows:\n",
      "@mean_fare[mean_fare_value] where \"mean_fare_value\" is a floating-point number rounded to two decimal places.\n"
     ]
    }
   ],
   "source": [
    "i = 0\n",
    "ex = sum_stats_df.iloc[i]\n",
    "\n",
    "prompt_template = \"\"\"# Task\n",
    "{question}\n",
    "\n",
    "# Instructions\n",
    " - Analyze the data in `{file_name}`.\n",
    " - {constraints}\n",
    " - Do **not** write any code. Rely on your tools instead.\n",
    " - **Only use your tools** and ignore Python-specific constraints.\n",
    "\n",
    "# Formatting\n",
    "Format your answer as follows:\n",
    "{format}\"\"\"\n",
    "\n",
    "\n",
    "print(prompt_template.format(\n",
    "    question=ex.question,\n",
    "    file_name=ex.file_name,\n",
    "    constraints=ex.constraints,\n",
    "    format=ex.format\n",
    "))"
   ]
  },
  {
   "cell_type": "code",
   "execution_count": 9,
   "id": "b58d4ea3",
   "metadata": {},
   "outputs": [
    {
     "name": "stdout",
     "output_type": "stream",
     "text": [
      "# Answer\n",
      "[['mean_fare', '34.65']]\n"
     ]
    }
   ],
   "source": [
    "print(\"# Answer\")\n",
    "print(ex.common_answers)"
   ]
  },
  {
   "cell_type": "code",
   "execution_count": 11,
   "id": "aefcb352",
   "metadata": {},
   "outputs": [],
   "source": [
    "def load_data(file_name : str) -> pd.DataFrame:\n",
    "    \"\"\"Load data from `file_name`. Must be executed before all other tools.\"\"\"\n",
    "    if not file_name.endswith('.csv'):\n",
    "        file_name += '.csv'\n",
    "    if not file_name.startswith(\"examples/DA-Agent/data/da-dev-tables/\"):\n",
    "        file_name = \"examples/DA-Agent/data/da-dev-tables/\" + file_name\n",
    "    df = pd.read_csv(file_name)\n",
    "    return df\n",
    "\n",
    "question_df = load_data(ex.file_name)\n",
    "# question_df['indicator_of_free_agency_eligibility'].describe().to_dict()"
   ]
  },
  {
   "cell_type": "markdown",
   "id": "6d2cd066",
   "metadata": {},
   "source": [
    "## Testing our custom MCP client"
   ]
  },
  {
   "cell_type": "code",
   "execution_count": 12,
   "id": "3f0b0ebe",
   "metadata": {},
   "outputs": [
    {
     "name": "stdout",
     "output_type": "stream",
     "text": [
      "The autoreload extension is already loaded. To reload it, use:\n",
      "  %reload_ext autoreload\n"
     ]
    }
   ],
   "source": [
    "%load_ext autoreload\n",
    "%autoreload 2"
   ]
  },
  {
   "cell_type": "code",
   "execution_count": 13,
   "id": "7abf833a",
   "metadata": {},
   "outputs": [
    {
     "name": "stdout",
     "output_type": "stream",
     "text": [
      "Connected! Discovered 8 tools: ['load_data', 'get_column_names', 'describe_column', 'get_value_counts', 'filter', 'remove_outliers', 'compute_mean', 'compute_standard_deviation']\n"
     ]
    }
   ],
   "source": [
    "from mcp_client import MCPClient\n",
    "\n",
    "mcp_client = MCPClient()\n",
    "await mcp_client.connect_to_server(\"mcp_server.py\")"
   ]
  },
  {
   "cell_type": "code",
   "execution_count": 19,
   "id": "8f115dc8",
   "metadata": {},
   "outputs": [
    {
     "name": "stdout",
     "output_type": "stream",
     "text": [
      "# Task\n",
      "Calculate the mean and standard deviation of the \"importance.score\" column.\n",
      "\n",
      "# Instructions\n",
      " - Analyze the data in `imp.score.ldlr.metabolome.csv`.\n",
      " - Calculate the mean and standard deviation to two decimal places for the \"importance.score\" column. Ignore any null or missing values in the calculations. The calculations are to be done using standard statistical methods without applying any transformations or filters to the data.\n",
      " - Do **not** write any code. Rely on your tools instead.\n",
      " - **Only use your tools** and ignore Python-specific constraints.\n",
      "\n",
      "# Formatting\n",
      "Format your answer as follows:\n",
      "@importance_score_mean[mean] @importance_score_std[std_dev] where \"mean\" and \"std_dev\" are non-negative numbers rounded to two decimal places.\n",
      "\n",
      "[Calling tool load_data with args {'file_name': 'imp.score.ldlr.metabolome.csv'}]\n",
      "[Tool response: [TextContent(type='text', text='{\\n  \"success\": true,\\n  \"information\": {\\n    \"data size\": 377\\n  }\\n}', annotations=None, meta=None)]]\n",
      "[Calling tool get_column_names with args {}]\n",
      "[Tool response: [TextContent(type='text', text='#featureID', annotations=None, meta=None), TextContent(type='text', text='row ID', annotations=None, meta=None), TextContent(type='text', text='row m/z', annotations=None, meta=None), TextContent(type='text', text='row retention time', annotations=None, meta=None), TextContent(type='text', text='LibraryID', annotations=None, meta=None), TextContent(type='text', text='standard_indentification_level_1', annotations=None, meta=None), TextContent(type='text', text='_feature_id', annotations=None, meta=None), TextContent(type='text', text='importance.score', annotations=None, meta=None)]]\n",
      "[Calling tool describe_column with args {'column_name': 'importance.score'}]\n",
      "[Tool response: [TextContent(type='text', text='{\\n  \"count\": 377.0,\\n  \"mean\": 0.0026525198938991555,\\n  \"std\": 0.0063718028700038044,\\n  \"min\": 0.0,\\n  \"25%\": 0.0004495945218461,\\n  \"50%\": 0.0007177062869854,\\n  \"75%\": 0.0014826886903325,\\n  \"max\": 0.0670524225212391\\n}', annotations=None, meta=None)]]\n",
      "@importance_score_mean[0.00] @importance_score_std[0.01]\n",
      "\n",
      "[['importance_score_std', '0.01'], ['importance_score_mean', '0.0']]\n"
     ]
    }
   ],
   "source": [
    "i = 4\n",
    "ex = sum_stats_df.iloc[i]\n",
    "\n",
    "prompt_template = \"\"\"# Task\n",
    "{question}\n",
    "\n",
    "# Instructions\n",
    " - Analyze the data in `{file_name}`.\n",
    " - {constraints}\n",
    " - Do **not** write any code. Rely on your tools instead.\n",
    " - **Only use your tools** and ignore Python-specific constraints.\n",
    "\n",
    "# Formatting\n",
    "Format your answer as follows:\n",
    "{format}\"\"\"\n",
    "\n",
    "\n",
    "prompt = prompt_template.format(\n",
    "    question=ex.question,\n",
    "    file_name=ex.file_name,\n",
    "    constraints=ex.constraints,\n",
    "    format=ex.format\n",
    ")\n",
    "\n",
    "try:\n",
    "    response = await mcp_client.process_query(prompt)\n",
    "except Exception as e:\n",
    "    print(f\"\\nError: {str(e)}\")\n",
    "\n",
    "print(prompt)\n",
    "print()\n",
    "print(response)\n",
    "print()\n",
    "print(ex.common_answers)"
   ]
  },
  {
   "cell_type": "markdown",
   "id": "a23189f2",
   "metadata": {},
   "source": [
    "## Simple evaluation"
   ]
  },
  {
   "cell_type": "code",
   "execution_count": 20,
   "id": "8d23aa11",
   "metadata": {},
   "outputs": [],
   "source": [
    "from tqdm import trange\n",
    "\n",
    "results = []\n",
    "for i in trange(10):\n",
    "    ex = sum_stats_df.iloc[i]\n",
    "\n",
    "    prompt_template = \"\"\"# Task\n",
    "    {question}\n",
    "\n",
    "    # Instructions\n",
    "    - Analyze the data in `{file_name}`.\n",
    "    - {constraints}\n",
    "    - Do **not** write any code. Rely on your tools instead.\n",
    "    - **Only use your tools** and ignore Python-specific constraints.\n",
    "\n",
    "    # Formatting\n",
    "    Format your answer as follows:\n",
    "    {format}\"\"\"\n",
    "\n",
    "\n",
    "    prompt = prompt_template.format(\n",
    "        question=ex.question,\n",
    "        file_name=ex.file_name,\n",
    "        constraints=ex.constraints,\n",
    "        format=ex.format\n",
    "    )\n",
    "\n",
    "    try:\n",
    "        response = await mcp_client.process_query(prompt)\n",
    "    except Exception as e:\n",
    "        print(f\"\\nError: {str(e)}\")\n",
    "\n",
    "    results.append({\n",
    "        \"response\": response.split('\\n')[-1],\n",
    "        \"target\": ' '.join(f\"@{t[0]}[{t[1]}]\" for t in ex.common_answers)\n",
    "    })"
   ]
  },
  {
   "cell_type": "code",
   "execution_count": 21,
   "id": "70442742",
   "metadata": {},
   "outputs": [
    {
     "data": {
      "text/plain": [
       "[{'response': '@mean_fare[34.65]', 'target': '@mean_fare[34.65]'},\n",
       " {'response': '@mean_close_price[570.68]',\n",
       "  'target': '@mean_close_price[570.68]'},\n",
       " {'response': \"[Calling tool compute_standard_deviation with args {'column_name': 'Mar.2019'}]\",\n",
       "  'target': '@mean_mar_2019[171.44] @sd_mar_2019[188.25]'},\n",
       " {'response': '@mean_age[39.21]', 'target': '@mean_age[39.21]'},\n",
       " {'response': '@importance_score_mean[0.00] @importance_score_std[0.01]',\n",
       "  'target': '@importance_score_std[0.01] @importance_score_mean[0.0]'},\n",
       " {'response': \"[Calling tool get_value_counts with args {'column_name': 'No. of cases'}]\",\n",
       "  'target': '@mean_cases[2081990]'},\n",
       " {'response': '@mean_wage[6.31] @std_wage[4.66]',\n",
       "  'target': '@std_wage[4.66] @mean_wage[6.31]'},\n",
       " {'response': '@std_dev_volume[8254791.71]',\n",
       "  'target': '@mean_volume[22607406.19] @std_dev_volume[8254791.71]'},\n",
       " {'response': '@country_with_highest_score[Denmark]',\n",
       "  'target': '@country_with_highest_score[Switzerland]'},\n",
       " {'response': '@mean_fare[32.20] @std_dev_fare[49.69]',\n",
       "  'target': '@std_dev_fare[49.67]'}]"
      ]
     },
     "execution_count": 21,
     "metadata": {},
     "output_type": "execute_result"
    }
   ],
   "source": [
    "results"
   ]
  },
  {
   "cell_type": "markdown",
   "id": "68d4e6ff",
   "metadata": {},
   "source": [
    "## Generating our own example"
   ]
  }
 ],
 "metadata": {
  "kernelspec": {
   "display_name": "infiagent",
   "language": "python",
   "name": "python3"
  },
  "language_info": {
   "codemirror_mode": {
    "name": "ipython",
    "version": 3
   },
   "file_extension": ".py",
   "mimetype": "text/x-python",
   "name": "python",
   "nbconvert_exporter": "python",
   "pygments_lexer": "ipython3",
   "version": "3.12.3"
  }
 },
 "nbformat": 4,
 "nbformat_minor": 5
}
